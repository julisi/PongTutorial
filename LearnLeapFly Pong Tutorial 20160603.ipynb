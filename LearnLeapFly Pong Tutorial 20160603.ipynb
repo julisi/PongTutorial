{
 "cells": [
  {
   "cell_type": "markdown",
   "metadata": {},
   "source": [
    "* Creating an application (Programming guide for Kivy)  \n",
    "\t'You can save... and run it' under the import kivy coding instructions:  \n",
    "    it would be nice to have 'we'll get to that in the Running the application section below'\n",
    "    for new programers seeing this 'run it' with no code example makes the instructions feel\n",
    "    like they are not directed towards completely new programmers. Knowing that those \n",
    "    instructions exist and will be presented gives a feeling of relief.\n",
    "    \n",
    "\n",
    "* quick start for kv under `def build(self)` typo:  \n",
    "\t'show casing' should be 'showcasing'\n",
    "\n",
    "\n",
    "* click on Create an application in kivy   \n",
    "\thttps://kivy.org/docs/installation/installation-osx.html#osx-run-app  \n",
    "\thttps://kivy.org/docs/guide/basic.html#quickstart\n",
    "\n",
    "\tRunning the application  \n",
    "\tunder Mac OS X  \n",
    "\tno longer using kivy to run the program use python; should be corrected in the 2 links listed above\n"
   ]
  },
  {
   "cell_type": "code",
   "execution_count": null,
   "metadata": {
    "collapsed": true
   },
   "outputs": [],
   "source": []
  }
 ],
 "metadata": {
  "kernelspec": {
   "display_name": "Python 3",
   "language": "python",
   "name": "python3"
  },
  "language_info": {
   "codemirror_mode": {
    "name": "ipython",
    "version": 3
   },
   "file_extension": ".py",
   "mimetype": "text/x-python",
   "name": "python",
   "nbconvert_exporter": "python",
   "pygments_lexer": "ipython3",
   "version": "3.5.1"
  }
 },
 "nbformat": 4,
 "nbformat_minor": 0
}
